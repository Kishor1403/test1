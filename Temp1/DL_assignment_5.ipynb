{
 "cells": [
  {
   "cell_type": "markdown",
   "metadata": {},
   "source": [
    "# Exp 5 : Google stock prices"
   ]
  },
  {
   "cell_type": "code",
   "execution_count": 1,
   "metadata": {},
   "outputs": [],
   "source": [
    "# Importing the libraries\n",
    "import numpy as np\n",
    "import matplotlib.pyplot as plt\n",
    "import pandas as pd\n",
    "#import pandas_datareader.data as web\n",
    "import datetime\n",
    "import math\n",
    "\n",
    "from sklearn.preprocessing import MinMaxScaler\n",
    "from sklearn.metrics import mean_squared_error\n",
    "\n",
    "# Importing the Keras libraries and packages\n",
    "from keras.models import Sequential  # linear stack of layers\n",
    "from keras.layers import Dense\n",
    "from keras.layers import LSTM        # Long Short-Term Memory layer\n",
    "from keras.layers import Dropout     # simple way to prevent overfitting"
   ]
  },
  {
   "cell_type": "code",
   "execution_count": 2,
   "metadata": {},
   "outputs": [],
   "source": [
    "# Configuration\n",
    "\n",
    "SHARE = 'AAPL'\n",
    "SERVICE = 'fred' #'quandl' #'yahoo'\n",
    "\n",
    "PREDICTORS = ['Open']  #['High', 'Low', 'Open']   # column names with prices\n",
    "TARGET = 'Open'\n",
    "\n",
    "TIMESTEP = 90  # the number of previous days used for prediction\n",
    "\n",
    "START_DATE = datetime.datetime(2010, 1, 1)  # doesn't work for Kaggle Notebook, train set is used instead \n",
    "END_DATE = datetime.datetime(2019, 9, 30)\n",
    "\n",
    "START_DATE_TO_PREDICT = datetime.datetime(2019, 10, 1)  # doesn't work for Kaggle,test set is used instead\n",
    "END_DATE_TO_PREDICT = datetime.datetime(2019, 10, 31)\n",
    "\n",
    "N_EPOCHS = 100"
   ]
  },
  {
   "cell_type": "code",
   "execution_count": 3,
   "metadata": {},
   "outputs": [],
   "source": [
    "# Download stock price data\n",
    "\n",
    "# For some reason web.DataReader doesn't work on Kaggle\n",
    "\n",
    "#df_train = web.DataReader(SHARE, SERVICE, START_DATE, END_DATE)\n",
    "#df_test = web.DataReader(SHARE, SERVICE, START_DATE_TO_PREDICT, END_DATE_TO_PREDICT)\n",
    "\n",
    "df_train = pd.read_csv('E:/Github/DL_assignments/Google_Stock_Price_Train.csv')\n",
    "df_test = pd.read_csv('E:/Github/DL_assignments/Google_Stock_Price_Test.csv')"
   ]
  },
  {
   "cell_type": "code",
   "execution_count": 4,
   "metadata": {},
   "outputs": [
    {
     "data": {
      "text/plain": [
       "(1258, 6)"
      ]
     },
     "execution_count": 4,
     "metadata": {},
     "output_type": "execute_result"
    }
   ],
   "source": [
    "df_train.shape"
   ]
  },
  {
   "cell_type": "code",
   "execution_count": 5,
   "metadata": {},
   "outputs": [
    {
     "data": {
      "text/html": [
       "<div>\n",
       "<style scoped>\n",
       "    .dataframe tbody tr th:only-of-type {\n",
       "        vertical-align: middle;\n",
       "    }\n",
       "\n",
       "    .dataframe tbody tr th {\n",
       "        vertical-align: top;\n",
       "    }\n",
       "\n",
       "    .dataframe thead th {\n",
       "        text-align: right;\n",
       "    }\n",
       "</style>\n",
       "<table border=\"1\" class=\"dataframe\">\n",
       "  <thead>\n",
       "    <tr style=\"text-align: right;\">\n",
       "      <th></th>\n",
       "      <th>Date</th>\n",
       "      <th>Open</th>\n",
       "      <th>High</th>\n",
       "      <th>Low</th>\n",
       "      <th>Close</th>\n",
       "      <th>Volume</th>\n",
       "    </tr>\n",
       "  </thead>\n",
       "  <tbody>\n",
       "    <tr>\n",
       "      <th>15</th>\n",
       "      <td>1/25/2017</td>\n",
       "      <td>829.62</td>\n",
       "      <td>835.77</td>\n",
       "      <td>825.06</td>\n",
       "      <td>835.67</td>\n",
       "      <td>1,494,500</td>\n",
       "    </tr>\n",
       "    <tr>\n",
       "      <th>16</th>\n",
       "      <td>1/26/2017</td>\n",
       "      <td>837.81</td>\n",
       "      <td>838.00</td>\n",
       "      <td>827.01</td>\n",
       "      <td>832.15</td>\n",
       "      <td>2,973,900</td>\n",
       "    </tr>\n",
       "    <tr>\n",
       "      <th>17</th>\n",
       "      <td>1/27/2017</td>\n",
       "      <td>834.71</td>\n",
       "      <td>841.95</td>\n",
       "      <td>820.44</td>\n",
       "      <td>823.31</td>\n",
       "      <td>2,965,800</td>\n",
       "    </tr>\n",
       "    <tr>\n",
       "      <th>18</th>\n",
       "      <td>1/30/2017</td>\n",
       "      <td>814.66</td>\n",
       "      <td>815.84</td>\n",
       "      <td>799.80</td>\n",
       "      <td>802.32</td>\n",
       "      <td>3,246,600</td>\n",
       "    </tr>\n",
       "    <tr>\n",
       "      <th>19</th>\n",
       "      <td>1/31/2017</td>\n",
       "      <td>796.86</td>\n",
       "      <td>801.25</td>\n",
       "      <td>790.52</td>\n",
       "      <td>796.79</td>\n",
       "      <td>2,160,600</td>\n",
       "    </tr>\n",
       "  </tbody>\n",
       "</table>\n",
       "</div>"
      ],
      "text/plain": [
       "         Date    Open    High     Low   Close     Volume\n",
       "15  1/25/2017  829.62  835.77  825.06  835.67  1,494,500\n",
       "16  1/26/2017  837.81  838.00  827.01  832.15  2,973,900\n",
       "17  1/27/2017  834.71  841.95  820.44  823.31  2,965,800\n",
       "18  1/30/2017  814.66  815.84  799.80  802.32  3,246,600\n",
       "19  1/31/2017  796.86  801.25  790.52  796.79  2,160,600"
      ]
     },
     "execution_count": 5,
     "metadata": {},
     "output_type": "execute_result"
    }
   ],
   "source": [
    "df_test.tail()"
   ]
  },
  {
   "cell_type": "code",
   "execution_count": 6,
   "metadata": {},
   "outputs": [],
   "source": [
    "# Data preprocessing\n",
    "\n",
    "# Fix for used input files on Kaggle\n",
    "df_train['Date'] = pd.to_datetime(df_train['Date'])\n",
    "df_test['Date'] = pd.to_datetime(df_test['Date'])\n",
    "\n",
    "df_train.set_index('Date', inplace=True)\n",
    "df_test.set_index('Date', inplace=True)\n",
    "\n",
    "# Removing irrelevant columns\n",
    "df_train = df_train[PREDICTORS]\n",
    "df_test = df_test[PREDICTORS]"
   ]
  },
  {
   "cell_type": "code",
   "execution_count": 7,
   "metadata": {},
   "outputs": [
    {
     "data": {
      "text/html": [
       "<div>\n",
       "<style scoped>\n",
       "    .dataframe tbody tr th:only-of-type {\n",
       "        vertical-align: middle;\n",
       "    }\n",
       "\n",
       "    .dataframe tbody tr th {\n",
       "        vertical-align: top;\n",
       "    }\n",
       "\n",
       "    .dataframe thead th {\n",
       "        text-align: right;\n",
       "    }\n",
       "</style>\n",
       "<table border=\"1\" class=\"dataframe\">\n",
       "  <thead>\n",
       "    <tr style=\"text-align: right;\">\n",
       "      <th></th>\n",
       "      <th>Open</th>\n",
       "    </tr>\n",
       "    <tr>\n",
       "      <th>Date</th>\n",
       "      <th></th>\n",
       "    </tr>\n",
       "  </thead>\n",
       "  <tbody>\n",
       "    <tr>\n",
       "      <th>2017-01-25</th>\n",
       "      <td>829.62</td>\n",
       "    </tr>\n",
       "    <tr>\n",
       "      <th>2017-01-26</th>\n",
       "      <td>837.81</td>\n",
       "    </tr>\n",
       "    <tr>\n",
       "      <th>2017-01-27</th>\n",
       "      <td>834.71</td>\n",
       "    </tr>\n",
       "    <tr>\n",
       "      <th>2017-01-30</th>\n",
       "      <td>814.66</td>\n",
       "    </tr>\n",
       "    <tr>\n",
       "      <th>2017-01-31</th>\n",
       "      <td>796.86</td>\n",
       "    </tr>\n",
       "  </tbody>\n",
       "</table>\n",
       "</div>"
      ],
      "text/plain": [
       "              Open\n",
       "Date              \n",
       "2017-01-25  829.62\n",
       "2017-01-26  837.81\n",
       "2017-01-27  834.71\n",
       "2017-01-30  814.66\n",
       "2017-01-31  796.86"
      ]
     },
     "execution_count": 7,
     "metadata": {},
     "output_type": "execute_result"
    }
   ],
   "source": [
    "df_test.tail()"
   ]
  },
  {
   "cell_type": "code",
   "execution_count": 8,
   "metadata": {},
   "outputs": [],
   "source": [
    "# Creating numpy 2-dim array for the training set\n",
    "# size N x K, where N - number of observations\n",
    "# K - number of predictors\n",
    "\n",
    "training_set = df_train.values"
   ]
  },
  {
   "cell_type": "code",
   "execution_count": 9,
   "metadata": {},
   "outputs": [],
   "source": [
    "# Feature Scaling\n",
    "sc = MinMaxScaler(feature_range = (0, 1))\n",
    "training_set_scaled = sc.fit_transform(training_set)"
   ]
  },
  {
   "cell_type": "code",
   "execution_count": 10,
   "metadata": {},
   "outputs": [],
   "source": [
    "\n",
    " \n",
    "X_train = []\n",
    "y_train = []\n",
    "target_col_index = df_train.columns.get_loc(TARGET)\n",
    "for i in range(TIMESTEP, len(training_set)):\n",
    "    X_train.append(training_set_scaled[i-TIMESTEP:i, :])       # X_train - list of Numpy arrays\n",
    "    y_train.append(training_set_scaled[i, target_col_index])\n",
    "X_train, y_train = np.array(X_train), np.array(y_train)        # convert list to Numpy array"
   ]
  },
  {
   "cell_type": "code",
   "execution_count": 11,
   "metadata": {},
   "outputs": [
    {
     "name": "stdout",
     "output_type": "stream",
     "text": [
      "Epoch 1/100\n",
      "37/37 [==============================] - 12s 111ms/step - loss: 0.0417\n",
      "Epoch 2/100\n",
      "37/37 [==============================] - 4s 110ms/step - loss: 0.0069\n",
      "Epoch 3/100\n",
      "37/37 [==============================] - 4s 106ms/step - loss: 0.0054\n",
      "Epoch 4/100\n",
      "37/37 [==============================] - 4s 108ms/step - loss: 0.0053\n",
      "Epoch 5/100\n",
      "37/37 [==============================] - 4s 114ms/step - loss: 0.0048\n",
      "Epoch 6/100\n",
      "37/37 [==============================] - 4s 106ms/step - loss: 0.0046\n",
      "Epoch 7/100\n",
      "37/37 [==============================] - 4s 98ms/step - loss: 0.0045\n",
      "Epoch 8/100\n",
      "37/37 [==============================] - 4s 117ms/step - loss: 0.0047\n",
      "Epoch 9/100\n",
      "37/37 [==============================] - 6s 156ms/step - loss: 0.0048\n",
      "Epoch 10/100\n",
      "37/37 [==============================] - 6s 157ms/step - loss: 0.0045\n",
      "Epoch 11/100\n",
      "37/37 [==============================] - 5s 131ms/step - loss: 0.0047\n",
      "Epoch 12/100\n",
      "37/37 [==============================] - 4s 114ms/step - loss: 0.0044\n",
      "Epoch 13/100\n",
      "37/37 [==============================] - 4s 109ms/step - loss: 0.0043\n",
      "Epoch 14/100\n",
      "37/37 [==============================] - 4s 108ms/step - loss: 0.0044\n",
      "Epoch 15/100\n",
      "37/37 [==============================] - 4s 109ms/step - loss: 0.0041\n",
      "Epoch 16/100\n",
      "37/37 [==============================] - 4s 113ms/step - loss: 0.0036\n",
      "Epoch 17/100\n",
      "37/37 [==============================] - 4s 106ms/step - loss: 0.0038\n",
      "Epoch 18/100\n",
      "37/37 [==============================] - 4s 109ms/step - loss: 0.0038\n",
      "Epoch 19/100\n",
      "37/37 [==============================] - 4s 119ms/step - loss: 0.0036\n",
      "Epoch 20/100\n",
      "37/37 [==============================] - 5s 128ms/step - loss: 0.0035\n",
      "Epoch 21/100\n",
      "37/37 [==============================] - 5s 123ms/step - loss: 0.0042\n",
      "Epoch 22/100\n",
      "37/37 [==============================] - 4s 118ms/step - loss: 0.0034\n",
      "Epoch 23/100\n",
      "37/37 [==============================] - 4s 121ms/step - loss: 0.0035\n",
      "Epoch 24/100\n",
      "37/37 [==============================] - 4s 117ms/step - loss: 0.0033\n",
      "Epoch 25/100\n",
      "37/37 [==============================] - 5s 143ms/step - loss: 0.0031\n",
      "Epoch 26/100\n",
      "37/37 [==============================] - 5s 142ms/step - loss: 0.0034\n",
      "Epoch 27/100\n",
      "37/37 [==============================] - 5s 143ms/step - loss: 0.0033\n",
      "Epoch 28/100\n",
      "37/37 [==============================] - 6s 158ms/step - loss: 0.0031\n",
      "Epoch 29/100\n",
      "37/37 [==============================] - 6s 151ms/step - loss: 0.0035\n",
      "Epoch 30/100\n",
      "37/37 [==============================] - 5s 147ms/step - loss: 0.0030\n",
      "Epoch 31/100\n",
      "37/37 [==============================] - 8s 229ms/step - loss: 0.0027\n",
      "Epoch 32/100\n",
      "37/37 [==============================] - 9s 230ms/step - loss: 0.0031\n",
      "Epoch 33/100\n",
      "37/37 [==============================] - 6s 158ms/step - loss: 0.0035\n",
      "Epoch 34/100\n",
      "37/37 [==============================] - 5s 133ms/step - loss: 0.0028\n",
      "Epoch 35/100\n",
      "37/37 [==============================] - 6s 166ms/step - loss: 0.0031\n",
      "Epoch 36/100\n",
      "37/37 [==============================] - 6s 169ms/step - loss: 0.0025\n",
      "Epoch 37/100\n",
      "37/37 [==============================] - 5s 138ms/step - loss: 0.0035\n",
      "Epoch 38/100\n",
      "37/37 [==============================] - 5s 144ms/step - loss: 0.0028\n",
      "Epoch 39/100\n",
      "37/37 [==============================] - 5s 128ms/step - loss: 0.0033\n",
      "Epoch 40/100\n",
      "37/37 [==============================] - 5s 137ms/step - loss: 0.0027\n",
      "Epoch 41/100\n",
      "37/37 [==============================] - 8s 205ms/step - loss: 0.0026\n",
      "Epoch 42/100\n",
      "37/37 [==============================] - 8s 220ms/step - loss: 0.0029\n",
      "Epoch 43/100\n",
      "37/37 [==============================] - 8s 209ms/step - loss: 0.0029\n",
      "Epoch 44/100\n",
      "37/37 [==============================] - 8s 221ms/step - loss: 0.0026\n",
      "Epoch 45/100\n",
      "37/37 [==============================] - 9s 231ms/step - loss: 0.0025\n",
      "Epoch 46/100\n",
      "37/37 [==============================] - 9s 233ms/step - loss: 0.0030\n",
      "Epoch 47/100\n",
      "37/37 [==============================] - 7s 188ms/step - loss: 0.0028\n",
      "Epoch 48/100\n",
      "37/37 [==============================] - 8s 222ms/step - loss: 0.0030\n",
      "Epoch 49/100\n",
      "37/37 [==============================] - 8s 224ms/step - loss: 0.0025\n",
      "Epoch 50/100\n",
      "37/37 [==============================] - 8s 221ms/step - loss: 0.0031\n",
      "Epoch 51/100\n",
      "37/37 [==============================] - 8s 221ms/step - loss: 0.0028\n",
      "Epoch 52/100\n",
      "37/37 [==============================] - 9s 231ms/step - loss: 0.0025\n",
      "Epoch 53/100\n",
      "37/37 [==============================] - 8s 219ms/step - loss: 0.0023\n",
      "Epoch 54/100\n",
      "37/37 [==============================] - 7s 200ms/step - loss: 0.0023\n",
      "Epoch 55/100\n",
      "37/37 [==============================] - 8s 217ms/step - loss: 0.0024\n",
      "Epoch 56/100\n",
      "37/37 [==============================] - 8s 225ms/step - loss: 0.0024\n",
      "Epoch 57/100\n",
      "37/37 [==============================] - 8s 217ms/step - loss: 0.0022\n",
      "Epoch 58/100\n",
      "37/37 [==============================] - 8s 222ms/step - loss: 0.0023\n",
      "Epoch 59/100\n",
      "37/37 [==============================] - 8s 224ms/step - loss: 0.0021\n",
      "Epoch 60/100\n",
      "37/37 [==============================] - 8s 209ms/step - loss: 0.0022\n",
      "Epoch 61/100\n",
      "37/37 [==============================] - 8s 218ms/step - loss: 0.0023\n",
      "Epoch 62/100\n",
      "37/37 [==============================] - 8s 224ms/step - loss: 0.0021\n",
      "Epoch 63/100\n",
      "37/37 [==============================] - 8s 222ms/step - loss: 0.0021\n",
      "Epoch 64/100\n",
      "37/37 [==============================] - 8s 229ms/step - loss: 0.0021\n",
      "Epoch 65/100\n",
      "37/37 [==============================] - 8s 225ms/step - loss: 0.0022\n",
      "Epoch 66/100\n",
      "37/37 [==============================] - 9s 232ms/step - loss: 0.0023\n",
      "Epoch 67/100\n",
      "37/37 [==============================] - 8s 204ms/step - loss: 0.0019\n",
      "Epoch 68/100\n",
      "37/37 [==============================] - 9s 242ms/step - loss: 0.0020\n",
      "Epoch 69/100\n",
      "37/37 [==============================] - 10s 268ms/step - loss: 0.0019\n",
      "Epoch 70/100\n",
      "37/37 [==============================] - 9s 238ms/step - loss: 0.0024\n",
      "Epoch 71/100\n",
      "37/37 [==============================] - 8s 228ms/step - loss: 0.0024\n",
      "Epoch 72/100\n",
      "37/37 [==============================] - 9s 231ms/step - loss: 0.0019\n",
      "Epoch 73/100\n",
      "37/37 [==============================] - 8s 207ms/step - loss: 0.0019\n",
      "Epoch 74/100\n",
      "37/37 [==============================] - 9s 233ms/step - loss: 0.0020\n",
      "Epoch 75/100\n",
      "37/37 [==============================] - 9s 230ms/step - loss: 0.0020\n",
      "Epoch 76/100\n",
      "37/37 [==============================] - 9s 234ms/step - loss: 0.0019\n",
      "Epoch 77/100\n",
      "37/37 [==============================] - 8s 228ms/step - loss: 0.0020\n",
      "Epoch 78/100\n",
      "37/37 [==============================] - 8s 229ms/step - loss: 0.0018\n",
      "Epoch 79/100\n",
      "37/37 [==============================] - 8s 227ms/step - loss: 0.0018\n",
      "Epoch 80/100\n",
      "37/37 [==============================] - 7s 197ms/step - loss: 0.0017\n",
      "Epoch 81/100\n",
      "37/37 [==============================] - 8s 225ms/step - loss: 0.0017\n",
      "Epoch 82/100\n",
      "37/37 [==============================] - 8s 221ms/step - loss: 0.0017\n",
      "Epoch 83/100\n",
      "37/37 [==============================] - 9s 233ms/step - loss: 0.0016\n",
      "Epoch 84/100\n",
      "37/37 [==============================] - 9s 241ms/step - loss: 0.0017\n",
      "Epoch 85/100\n",
      "37/37 [==============================] - 9s 230ms/step - loss: 0.0018\n",
      "Epoch 86/100\n",
      "37/37 [==============================] - 8s 209ms/step - loss: 0.0017\n",
      "Epoch 87/100\n",
      "37/37 [==============================] - 8s 222ms/step - loss: 0.0016\n",
      "Epoch 88/100\n",
      "37/37 [==============================] - 8s 222ms/step - loss: 0.0017\n",
      "Epoch 89/100\n",
      "37/37 [==============================] - 8s 223ms/step - loss: 0.0017\n",
      "Epoch 90/100\n",
      "37/37 [==============================] - 8s 229ms/step - loss: 0.0018\n",
      "Epoch 91/100\n",
      "37/37 [==============================] - 9s 231ms/step - loss: 0.0016\n",
      "Epoch 92/100\n",
      "37/37 [==============================] - 8s 220ms/step - loss: 0.0016\n",
      "Epoch 93/100\n",
      "37/37 [==============================] - 7s 200ms/step - loss: 0.0017\n",
      "Epoch 94/100\n",
      "37/37 [==============================] - 8s 219ms/step - loss: 0.0015\n",
      "Epoch 95/100\n",
      "37/37 [==============================] - 8s 220ms/step - loss: 0.0017\n",
      "Epoch 96/100\n",
      "37/37 [==============================] - 8s 223ms/step - loss: 0.0016\n",
      "Epoch 97/100\n",
      "37/37 [==============================] - 8s 226ms/step - loss: 0.0015\n",
      "Epoch 98/100\n",
      "37/37 [==============================] - 8s 229ms/step - loss: 0.0015\n",
      "Epoch 99/100\n"
     ]
    },
    {
     "name": "stdout",
     "output_type": "stream",
     "text": [
      "37/37 [==============================] - 8s 214ms/step - loss: 0.0015\n",
      "Epoch 100/100\n",
      "37/37 [==============================] - 8s 214ms/step - loss: 0.0013\n"
     ]
    },
    {
     "data": {
      "text/plain": [
       "<keras.callbacks.History at 0x1e7888fab00>"
      ]
     },
     "execution_count": 11,
     "metadata": {},
     "output_type": "execute_result"
    }
   ],
   "source": [
    "# Building the RNN\n",
    "\n",
    "\n",
    "# Initialising the RNN\n",
    "regressor = Sequential()\n",
    "\n",
    "# Adding the first LSTM layer and some Dropout regularisation\n",
    "regressor.add(LSTM(units = 50, return_sequences = True, input_shape = (X_train.shape[1], X_train.shape[2])))\n",
    "regressor.add(Dropout(0.2))\n",
    "\n",
    "# Adding a second LSTM layer and some Dropout regularisation\n",
    "regressor.add(LSTM(units = 50, return_sequences = True))\n",
    "regressor.add(Dropout(0.2))\n",
    "\n",
    "# Adding a third LSTM layer and some Dropout regularisation\n",
    "regressor.add(LSTM(units = 50, return_sequences = True))\n",
    "regressor.add(Dropout(0.2))\n",
    "\n",
    "# Adding a fourth LSTM layer and some Dropout regularisation\n",
    "regressor.add(LSTM(units = 50))\n",
    "regressor.add(Dropout(0.2))\n",
    "# Adding the output layer - dense layer \n",
    "# classic fully connected neural network layer : each input node is connected to each output node\n",
    "regressor.add(Dense(units = 1))\n",
    "\n",
    "# Compiling the RNN\n",
    "# use MSE instead RMSE (Root Mean Squared Error) because we are more interested in the directions taken by our predictions, rather than the closeness of their values to the real stock price\n",
    "regressor.compile(optimizer = 'adam', loss = 'mean_squared_error')\n",
    "\n",
    "# Fitting the RNN to the Training set\n",
    "regressor.fit(X_train, y_train, epochs = N_EPOCHS, batch_size = 32)"
   ]
  },
  {
   "cell_type": "code",
   "execution_count": 12,
   "metadata": {},
   "outputs": [
    {
     "name": "stderr",
     "output_type": "stream",
     "text": [
      "C:\\Users\\Rohit Kharat\\AppData\\Local\\Temp\\ipykernel_14020\\177615231.py:5: FutureWarning: The frame.append method is deprecated and will be removed from pandas in a future version. Use pandas.concat instead.\n",
      "  df_total = df_train.append(df_test)\n",
      "C:\\Users\\Rohit Kharat\\anaconda3\\lib\\site-packages\\sklearn\\base.py:413: UserWarning: X has feature names, but MinMaxScaler was fitted without feature names\n",
      "  warnings.warn(\n"
     ]
    }
   ],
   "source": [
    "# Extracting real prices\n",
    "real_stock_price = df_test[TARGET].values\n",
    "\n",
    "# Preparing input data for making predictions\n",
    "df_total = df_train.append(df_test)\n",
    "inputs = df_total[len(df_total) - len(df_test) - TIMESTEP:][PREDICTORS]\n",
    "\n",
    "inputs = sc.transform(inputs)\n",
    "\n",
    "\n",
    "X_test = []\n",
    "for i in range(TIMESTEP, TIMESTEP+len(df_test)):\n",
    "    X_test.append(inputs[i-TIMESTEP:i, :])\n",
    "X_test = np.array(X_test)"
   ]
  },
  {
   "cell_type": "code",
   "execution_count": 13,
   "metadata": {},
   "outputs": [
    {
     "name": "stdout",
     "output_type": "stream",
     "text": [
      "1/1 [==============================] - 8s 8s/step\n"
     ]
    }
   ],
   "source": [
    "# Making the predictions\n",
    "\n",
    "predicted_stock_price = regressor.predict(X_test)\n",
    "\n",
    "# to perform inverse scaler transformation, at first we need to transform \n",
    "# 1-dimensional array with predicted prices to 2-dim array of size N x K, \n",
    "# where N = number of observations/predictions. \n",
    "# K = number of predictors\n",
    "\n",
    "temp_matrix = np.zeros((len(predicted_stock_price), len(PREDICTORS)))\n",
    "temp_matrix[:,target_col_index:target_col_index+1] = predicted_stock_price  # temp_matrix[:,[target_col_index]] = predicted_stock_price    \n",
    "\n",
    "predicted_stock_price = sc.inverse_transform(temp_matrix)[:,target_col_index]"
   ]
  },
  {
   "cell_type": "code",
   "execution_count": 14,
   "metadata": {},
   "outputs": [
    {
     "data": {
      "text/plain": [
       "array([794.63343493, 791.76893097, 791.04605233, 791.87623652,\n",
       "       794.86496372, 800.49993108, 806.45553345, 809.92692736,\n",
       "       811.05304291, 810.83904058, 810.21065106, 809.58934262,\n",
       "       809.20965591, 809.56755469, 810.49956542, 814.46227714,\n",
       "       821.02848624, 828.75845915, 834.07612376, 832.13507557])"
      ]
     },
     "execution_count": 14,
     "metadata": {},
     "output_type": "execute_result"
    }
   ],
   "source": [
    "predicted_stock_price"
   ]
  },
  {
   "cell_type": "code",
   "execution_count": 15,
   "metadata": {},
   "outputs": [
    {
     "data": {
      "image/png": "[encoded data removed]",
      "text/plain": [
       "<Figure size 1600x400 with 1 Axes>"
      ]
     },
     "metadata": {},
     "output_type": "display_data"
    }
   ],
   "source": [
    "#df_predicted = pd.DataFrame(index=df_test.index)\n",
    "#df_predicted[TARGET] = predicted_stock_price\n",
    "\n",
    "df_test['Predicted price'] = predicted_stock_price\n",
    "df_test[TARGET].plot(figsize=(16,4),legend=True)\n",
    "df_test['Predicted price'].plot(figsize=(16,4),legend=True)\n",
    "plt.legend(['Real price', 'Predicted price'])\n",
    "plt.title('RNN - ' + SHARE + ' Stock Price Prediction')\n",
    "plt.xlabel('Date')\n",
    "plt.ylabel('Price')\n",
    "plt.show()"
   ]
  },
  {
   "cell_type": "code",
   "execution_count": 16,
   "metadata": {},
   "outputs": [
    {
     "name": "stdout",
     "output_type": "stream",
     "text": [
      "The RMSE is 11.999.\n"
     ]
    }
   ],
   "source": [
    "# Evaluating model\n",
    "rmse = math.sqrt(mean_squared_error(real_stock_price, predicted_stock_price))\n",
    "print(\"The RMSE is {:.3f}.\".format(rmse))"
   ]
  },
  {
   "cell_type": "code",
   "execution_count": null,
   "metadata": {},
   "outputs": [],
   "source": []
  }
 ],
 "metadata": {
  "colab": {
   "collapsed_sections": [],
   "name": "Solution2_174113V.ipynb",
   "provenance": []
  },
  "kernelspec": {
   "display_name": "Python 3 (ipykernel)",
   "language": "python",
   "name": "python3"
  },
  "language_info": {
   "codemirror_mode": {
    "name": "ipython",
    "version": 3
   },
   "file_extension": ".py",
   "mimetype": "text/x-python",
   "name": "python",
   "nbconvert_exporter": "python",
   "pygments_lexer": "ipython3",
   "version": "3.10.9"
  }
 },
 "nbformat": 4,
 "nbformat_minor": 1
}
